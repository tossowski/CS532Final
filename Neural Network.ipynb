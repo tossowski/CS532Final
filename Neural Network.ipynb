{
 "cells": [
  {
   "cell_type": "code",
   "execution_count": 1,
   "metadata": {},
   "outputs": [],
   "source": [
    "import numpy as np\n",
    "from matplotlib import pyplot as plt\n",
    "from scipy import stats\n",
    "import torch.nn as nn\n",
    "import torch.nn.functional as F\n",
    "import torch.optim as optim\n",
    "import torch\n",
    "\n",
    "def unpickle(file):\n",
    "    import pickle\n",
    "    with open(file, 'rb') as fo:\n",
    "        dict = pickle.load(fo, encoding='bytes')\n",
    "    return dict\n"
   ]
  },
  {
   "cell_type": "code",
   "execution_count": 2,
   "metadata": {},
   "outputs": [],
   "source": [
    "train = None\n",
    "labels = None\n",
    "for i in range(1,6):\n",
    "    batch = unpickle(\"cifar-10-batches-py/data_batch_{}\".format(i))\n",
    "    if train is None:\n",
    "        train = batch[b'data'].astype(np.float32)/255.0\n",
    "        labels = batch[b'labels']\n",
    "    else:\n",
    "        train = np.concatenate((train, \\\n",
    "            batch[b'data'].astype(np.float32)/255.0), axis = 0)\n",
    "        labels.extend(batch[b'labels'])\n",
    "        \n",
    "train_data = train\n",
    "train_labels = np.array(labels).reshape((-1,1))\n",
    "\n",
    "# Load test data\n",
    "test = unpickle(\"cifar-10-batches-py/test_batch\")\n",
    "test_data = test[b'data'].astype(np.float32)/255.0\n",
    "test_labels = np.array(test[b'labels']).reshape((-1,1))\n",
    "\n",
    "label_names = unpickle(\"cifar-10-batches-py/batches.meta\")"
   ]
  },
  {
   "cell_type": "code",
   "execution_count": 3,
   "metadata": {},
   "outputs": [],
   "source": [
    "train_images = np.array([np.transpose(np.reshape(image, (-1, 3, 32, 32)), (0, 2, 3, 1))[0] for image in train_data])\n",
    "test_images = np.array([np.transpose(np.reshape(image, (-1, 3, 32, 32)), (0, 2, 3, 1))[0] for image in test_data])"
   ]
  },
  {
   "cell_type": "code",
   "execution_count": 45,
   "metadata": {},
   "outputs": [],
   "source": [
    "class Model(nn.Module):\n",
    "    def __init__(self):\n",
    "        super(Model, self).__init__()\n",
    "        self.conv1 = nn.Conv2d(3, 32, 3)\n",
    "        self.pool = nn.MaxPool2d(2, 2)\n",
    "        self.conv2 = nn.Conv2d(32, 64, 3)\n",
    "        self.fc1 = nn.Linear(2304, 120)\n",
    "        self.fc2 = nn.Linear(120, 10)\n",
    "\n",
    "    def forward(self, x):\n",
    "        x = self.pool(F.relu(self.conv1(x)))\n",
    "        x = self.pool(F.relu(self.conv2(x)))\n",
    "        x = x.view(-1, 2304)\n",
    "        x = F.relu(self.fc1(x))\n",
    "        x = self.fc2(x)\n",
    "        return x\n",
    "\n",
    "\n",
    "model = Model()\n",
    "\n",
    "\n",
    "\n",
    "criterion = nn.CrossEntropyLoss()\n",
    "optimizer = optim.SGD(model.parameters(), lr=0.001, momentum=0.9)"
   ]
  },
  {
   "cell_type": "code",
   "execution_count": 46,
   "metadata": {},
   "outputs": [],
   "source": [
    "average_loss = []\n",
    "training_accuracies = []\n",
    "test_accuracies = []\n",
    "steps = list(range(1000,100000,10000))\n",
    "running_loss = 0.0\n",
    "num_examples = 0\n",
    "for epoch in range(2):\n",
    "    for i, image in enumerate(train_images):\n",
    "        label = torch.tensor(train_labels[i])\n",
    "        optimizer.zero_grad()\n",
    "        transposed_image = np.transpose(image, (2,1,0))\n",
    "\n",
    "\n",
    "        outputs = model(torch.Tensor(transposed_image[None,:,:,:]))\n",
    "\n",
    "        loss = criterion(outputs, label)\n",
    "        loss.backward()\n",
    "        optimizer.step()\n",
    "\n",
    "        running_loss += loss.item()\n",
    "        num_examples += 1\n",
    "        step_num = epoch * 50000 + i\n",
    "        if step_num in steps:\n",
    "            \n",
    "            average_loss.append(running_loss/num_examples)\n",
    "            training_accuracies.append(get_accuracy(train_images, train_labels))\n",
    "            test_accuracies.append(get_accuracy(test_images, test_labels))\n",
    "            running_loss = 0\n",
    "            num_examples = 0\n",
    "        \n",
    "\n"
   ]
  },
  {
   "cell_type": "code",
   "execution_count": 55,
   "metadata": {},
   "outputs": [
    {
     "data": {
      "image/png": "[encoded data removed]",
      "text/plain": [
       "<Figure size 720x360 with 2 Axes>"
      ]
     },
     "metadata": {
      "needs_background": "light"
     },
     "output_type": "display_data"
    }
   ],
   "source": [
    "fig, ax = plt.subplots(1,2, figsize=(10,5))\n",
    "ax[0].plot(steps, test_accuracies, label = \"Test\")\n",
    "ax[0].plot(steps, training_accuracies, label = \"Train\")\n",
    "ax[0].set_xlabel(\"Step Number\")\n",
    "ax[0].set_ylabel(\"Average Loss\")\n",
    "ax[0].set_title(\"Training and Test Accuracy Over Time\")\n",
    "ax[0].legend()\n",
    "\n",
    "ax[1].plot(steps, average_loss)\n",
    "ax[1].set_title(\"Average Cross Entropy Loss Over Time\")\n",
    "ax[1].set_xlabel(\"Step Number\")\n",
    "ax[1].set_ylabel(\"Average Loss\")\n",
    "\n",
    "plt.savefig(\"NeuralNetResults.png\")\n",
    "plt.show()\n"
   ]
  },
  {
   "cell_type": "code",
   "execution_count": 44,
   "metadata": {},
   "outputs": [],
   "source": [
    "def get_accuracy(images, labels):\n",
    "    correct = 0\n",
    "    total = 0\n",
    "    for i, image in enumerate(images):\n",
    "        if classify_example(image) == labels[i]:\n",
    "            correct += 1\n",
    "        total += 1\n",
    "    return correct/total\n",
    "\n",
    "def classify_example(image):\n",
    "    transposed_image = np.transpose(image, (2,1,0))\n",
    "    outputs = model(torch.Tensor(transposed_image[None,:,:,:]))\n",
    "    probs = torch.squeeze(F.softmax(outputs, dim = 1))\n",
    "    return torch.argmax(probs).item()\n",
    "\n"
   ]
  }
 ],
 "metadata": {
  "kernelspec": {
   "display_name": "Python 3",
   "language": "python",
   "name": "python3"
  },
  "language_info": {
   "codemirror_mode": {
    "name": "ipython",
    "version": 3
   },
   "file_extension": ".py",
   "mimetype": "text/x-python",
   "name": "python",
   "nbconvert_exporter": "python",
   "pygments_lexer": "ipython3",
   "version": "3.7.3"
  }
 },
 "nbformat": 4,
 "nbformat_minor": 2
}
