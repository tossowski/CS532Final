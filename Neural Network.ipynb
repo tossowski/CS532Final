{
 "cells": [
  {
   "cell_type": "code",
   "execution_count": 1,
   "metadata": {},
   "outputs": [],
   "source": [
    "import numpy as np\n",
    "from matplotlib import pyplot as plt\n",
    "from scipy import stats\n",
    "import torch.nn as nn\n",
    "import torch.nn.functional as F\n",
    "import torch.optim as optim\n",
    "import torch\n",
    "\n",
    "def unpickle(file):\n",
    "    import pickle\n",
    "    with open(file, 'rb') as fo:\n",
    "        dict = pickle.load(fo, encoding='bytes')\n",
    "    return dict\n"
   ]
  },
  {
   "cell_type": "code",
   "execution_count": 2,
   "metadata": {},
   "outputs": [],
   "source": [
    "train = None\n",
    "labels = None\n",
    "for i in range(1,6):\n",
    "    batch = unpickle(\"cifar-10-batches-py/data_batch_{}\".format(i))\n",
    "    if train is None:\n",
    "        train = batch[b'data'].astype(np.float32)/255.0\n",
    "        labels = batch[b'labels']\n",
    "    else:\n",
    "        train = np.concatenate((train, \\\n",
    "            batch[b'data'].astype(np.float32)/255.0), axis = 0)\n",
    "        labels.extend(batch[b'labels'])\n",
    "        \n",
    "train_data = train\n",
    "train_labels = np.array(labels).reshape((-1,1))\n",
    "\n",
    "# Load test data\n",
    "test = unpickle(\"cifar-10-batches-py/test_batch\")\n",
    "test_data = test[b'data'].astype(np.float32)/255.0\n",
    "test_labels = np.array(test[b'labels']).reshape((-1,1))\n",
    "\n",
    "label_names = unpickle(\"cifar-10-batches-py/batches.meta\")"
   ]
  },
  {
   "cell_type": "code",
   "execution_count": 8,
   "metadata": {},
   "outputs": [],
   "source": [
    "train_images = np.array([np.transpose(np.reshape(image, (-1, 3, 32, 32)), (0, 2, 3, 1))[0] for image in train_data])\n",
    "test_images = np.array([np.transpose(np.reshape(image, (-1, 3, 32, 32)), (0, 2, 3, 1))[0] for image in test_data])"
   ]
  },
  {
   "cell_type": "code",
   "execution_count": 4,
   "metadata": {},
   "outputs": [],
   "source": [
    "class Net(nn.Module):\n",
    "    def __init__(self):\n",
    "        super(Net, self).__init__()\n",
    "        self.conv1 = nn.Conv2d(3, 32, 3)\n",
    "        self.pool = nn.MaxPool2d(2, 2)\n",
    "        self.conv2 = nn.Conv2d(32, 64, 3)\n",
    "        self.fc1 = nn.Linear(2304, 120)\n",
    "        self.fc2 = nn.Linear(120, 84)\n",
    "        self.fc3 = nn.Linear(84, 10)\n",
    "\n",
    "    def forward(self, x):\n",
    "        x = self.pool(F.relu(self.conv1(x)))\n",
    "        x = self.pool(F.relu(self.conv2(x)))\n",
    "        x = x.view(-1, 2304)\n",
    "        x = F.relu(self.fc1(x))\n",
    "        x = F.relu(self.fc2(x))\n",
    "        x = self.fc3(x)\n",
    "        return x\n",
    "\n",
    "\n",
    "net = Net()\n",
    "\n",
    "\n",
    "\n",
    "criterion = nn.CrossEntropyLoss()\n",
    "optimizer = optim.SGD(net.parameters(), lr=0.001, momentum=0.9)"
   ]
  },
  {
   "cell_type": "code",
   "execution_count": 5,
   "metadata": {},
   "outputs": [
    {
     "data": {
      "image/png": "[encoded data removed]",
      "text/plain": [
       "<Figure size 432x288 with 1 Axes>"
      ]
     },
     "metadata": {
      "needs_background": "light"
     },
     "output_type": "display_data"
    }
   ],
   "source": [
    "average_loss = []\n",
    "steps = list(range(1000,100000,1000))\n",
    "running_loss = 0.0\n",
    "for epoch in range(2):  # loop over the dataset multiple times\n",
    "\n",
    "    \n",
    "    for i, image in enumerate(train_images):\n",
    "        # get the inputs; data is a list of [inputs, labels]\n",
    "        label = torch.tensor(train_labels[i])\n",
    "        # zero the parameter gradients\n",
    "        optimizer.zero_grad()\n",
    "        transposed_image = np.transpose(image, (2,1,0))\n",
    "\n",
    "        # Batch size 1 = Stochastic Gradient Descent\n",
    "        outputs = net(torch.Tensor(transposed_image[None,:,:,:]))\n",
    "\n",
    "        loss = criterion(outputs, label)\n",
    "        loss.backward()\n",
    "        optimizer.step()\n",
    "\n",
    "        # print statistics\n",
    "        running_loss += loss.item()\n",
    "        step_num = epoch * 50000 + i\n",
    "        if step_num in steps:\n",
    "            average_loss.append(running_loss/step_num)\n",
    "plt.plot(steps, average_loss)\n",
    "plt.show()"
   ]
  },
  {
   "cell_type": "code",
   "execution_count": 16,
   "metadata": {},
   "outputs": [
    {
     "data": {
      "text/plain": [
       "0.5774"
      ]
     },
     "execution_count": 16,
     "metadata": {},
     "output_type": "execute_result"
    }
   ],
   "source": [
    "def classify_example(image):\n",
    "    transposed_image = np.transpose(image, (2,1,0))\n",
    "    outputs = net(torch.Tensor(transposed_image[None,:,:,:]))\n",
    "    probs = torch.squeeze(F.softmax(outputs, dim = 1))\n",
    "    return torch.argmax(probs).item()\n",
    "correct = 0\n",
    "total = 0\n",
    "for i, image in enumerate(test_images):\n",
    "    if classify_example(image) == test_labels[i]:\n",
    "        correct += 1\n",
    "    total += 1\n",
    "correct/total"
   ]
  }
 ],
 "metadata": {
  "kernelspec": {
   "display_name": "Python 3",
   "language": "python",
   "name": "python3"
  },
  "language_info": {
   "codemirror_mode": {
    "name": "ipython",
    "version": 3
   },
   "file_extension": ".py",
   "mimetype": "text/x-python",
   "name": "python",
   "nbconvert_exporter": "python",
   "pygments_lexer": "ipython3",
   "version": "3.7.3"
  }
 },
 "nbformat": 4,
 "nbformat_minor": 2
}
